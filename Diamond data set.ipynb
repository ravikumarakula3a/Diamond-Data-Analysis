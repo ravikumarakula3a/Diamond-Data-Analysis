{
 "cells": [
  {
   "cell_type": "markdown",
   "id": "e0c9cb3b",
   "metadata": {},
   "source": [
    "# Diamond Data Set"
   ]
  },
  {
   "cell_type": "code",
   "execution_count": 7,
   "id": "be0707fc",
   "metadata": {},
   "outputs": [],
   "source": [
    "# importing libraries\n",
    "\n",
    "import pandas as pd\n",
    "import numpy as np\n",
    "import matplotlib.pyplot as plt\n",
    "from matplotlib.animation import FuncAnimation\n",
    "import seaborn as sns\n",
    "import plotly.express as px\n",
    "import plotly.subplots as sp\n",
    "from plotly.subplots import make_subplots\n",
    "import plotly.graph_objects as go"
   ]
  },
  {
   "cell_type": "code",
   "execution_count": 17,
   "id": "0e7b005d",
   "metadata": {},
   "outputs": [],
   "source": [
    "# Load the data set\n",
    "\n",
    "df=pd.read_csv(r'C:\\Users\\user\\Downloads\\diamonds.csv')\n",
    "df"
   ]
  },
  {
   "cell_type": "code",
   "execution_count": 18,
   "id": "62d6e539",
   "metadata": {},
   "outputs": [],
   "source": [
    "# removing the unknown column\n",
    "\n",
    "df.drop(columns = 'Unnamed: 0',inplace = True)\n"
   ]
  },
  {
   "cell_type": "code",
   "execution_count": 19,
   "id": "1fe2a947",
   "metadata": {},
   "outputs": [],
   "source": [
    "df.head()"
   ]
  },
  {
   "cell_type": "code",
   "execution_count": 20,
   "id": "25628424",
   "metadata": {},
   "outputs": [],
   "source": [
    "df.info()"
   ]
  },
  {
   "cell_type": "code",
   "execution_count": 21,
   "id": "ce1a8ca6",
   "metadata": {},
   "outputs": [],
   "source": [
    "df.isnull().sum()"
   ]
  },
  {
   "cell_type": "code",
   "execution_count": 8,
   "id": "5e45294c",
   "metadata": {},
   "outputs": [],
   "source": [
    "df.drop_duplicates(inplace=True)"
   ]
  },
  {
   "cell_type": "code",
   "execution_count": 22,
   "id": "e5ba21c4",
   "metadata": {},
   "outputs": [],
   "source": [
    "df.shape"
   ]
  },
  {
   "cell_type": "code",
   "execution_count": 23,
   "id": "a2c456e5",
   "metadata": {},
   "outputs": [],
   "source": [
    "df.nunique()"
   ]
  },
  {
   "cell_type": "code",
   "execution_count": 24,
   "id": "a26979b5",
   "metadata": {},
   "outputs": [],
   "source": [
    "df['cut'].unique()"
   ]
  },
  {
   "cell_type": "code",
   "execution_count": 25,
   "id": "654e1a31",
   "metadata": {},
   "outputs": [],
   "source": [
    "df['color'].unique()"
   ]
  },
  {
   "cell_type": "code",
   "execution_count": 26,
   "id": "04345b2b",
   "metadata": {},
   "outputs": [],
   "source": [
    "df['clarity'].unique()"
   ]
  },
  {
   "cell_type": "code",
   "execution_count": 27,
   "id": "61c9d687",
   "metadata": {},
   "outputs": [],
   "source": [
    "df.describe().T"
   ]
  },
  {
   "cell_type": "code",
   "execution_count": 28,
   "id": "81243281",
   "metadata": {},
   "outputs": [],
   "source": [
    "# EDA Data Visualization\n",
    "\n",
    "# Subplots of Bar Graphs: Cut, Color, and Clarity\n",
    "\n",
    "\n",
    "x = df['cut'].value_counts().reset_index()\n",
    "x.columns = ['cut', 'count']\n",
    "\n",
    "y = df['color'].value_counts().reset_index()\n",
    "y.columns = ['color', 'count']\n",
    "\n",
    "z = df['clarity'].value_counts().reset_index()\n",
    "z.columns = ['clarity', 'count']\n",
    "\n",
    "fig = make_subplots(rows=1, cols=3, subplot_titles=['Cut', 'Color', 'Clarity'])\n",
    "\n",
    "fig.add_trace(go.Bar(x=x['cut'], y=x['count'], name='Cut'), row=1, col=1)\n",
    "fig.add_trace(go.Bar(x=y['color'], y=y['count'], name='Color'), row=1, col=2)\n",
    "fig.add_trace(go.Bar(x=z['clarity'], y=z['count'], name='Clarity'), row=1, col=3)\n",
    "\n",
    "fig.update_layout(title_text='Subplots of Bar Graphs: Cut, Color, and Clarity',\n",
    "                  xaxis=dict(title='Categories'),\n",
    "                  yaxis=dict(title='Count'),\n",
    "                  showlegend=False)\n",
    "\n",
    "fig.show()"
   ]
  },
  {
   "cell_type": "code",
   "execution_count": 29,
   "id": "f4ea7ea7",
   "metadata": {},
   "outputs": [],
   "source": [
    "# Histogram Subplots of Numerical Features\n",
    "\n",
    "\n",
    "numerical_columns = ['carat', 'depth', 'table', 'price', 'x', 'y', 'z']\n",
    "\n",
    "num_rows = (len(numerical_columns) // 2) + (len(numerical_columns) % 2)\n",
    "num_cols = 3\n",
    "\n",
    "fig = sp.make_subplots(rows=num_rows, cols=num_cols,\n",
    "                       subplot_titles=numerical_columns,\n",
    "                       vertical_spacing=0.15)\n",
    "for i, column in enumerate(numerical_columns):\n",
    "    row = (i // num_cols) + 1\n",
    "    col = (i % num_cols) + 1\n",
    "    trace = go.Histogram(x=df[column], nbinsx=20)\n",
    "    fig.add_trace(trace, row=row, col=col)\n",
    "\n",
    "fig.update_layout(height=num_rows * 300, width=num_cols * 400,\n",
    "                  title_text='Histogram Subplots of Numerical Features')\n",
    "fig.update_yaxes(title_text='Frequency')\n",
    "fig.update_xaxes(title_text='Value')\n",
    "\n",
    "fig.show()"
   ]
  },
  {
   "cell_type": "code",
   "execution_count": 30,
   "id": "812dcb34",
   "metadata": {},
   "outputs": [],
   "source": [
    "# Distribution of Price\n",
    "\n",
    "histogram_fig = px.histogram(df, x='price', nbins=30,\n",
    "                             title='Distribution of Price',\n",
    "                             labels={'price': 'Price', 'count': 'Frequency'})\n",
    "histogram_fig.show()"
   ]
  },
  {
   "cell_type": "code",
   "execution_count": 31,
   "id": "b34f6d9a",
   "metadata": {},
   "outputs": [],
   "source": [
    "# Box plot of Cut vs Price using Plotly\n",
    "\n",
    "box_fig = px.box(df, x='cut', y='price',\n",
    "                 title='Box Plot of Price by Cut',\n",
    "                 labels={'cut': 'Cut Quality', 'price': 'Price'})\n",
    "box_fig.show()"
   ]
  },
  {
   "cell_type": "code",
   "execution_count": 36,
   "id": "9ebe8ff4",
   "metadata": {},
   "outputs": [],
   "source": [
    "# Carat vs Price Colored by Cut\n",
    "\n",
    "# Scatter plot of Carat vs Price colored by Cut using Plotly\n",
    "\n",
    "scatter_fig = px.scatter(df, x='carat', y='price', color='cut',\n",
    "                         title='Carat vs Price Colored by Cut',\n",
    "                         labels={'carat': 'Carat', 'price': 'Price', 'cut': 'Cut Quality'})\n",
    "scatter_fig.show()"
   ]
  },
  {
   "cell_type": "code",
   "execution_count": 37,
   "id": "e79d8da2",
   "metadata": {},
   "outputs": [],
   "source": [
    "# 3D Scatter plot of Carat, Cut, and Price using Plotly\n",
    "\n",
    "scatter_3d_fig = px.scatter_3d(df, x='carat', y='cut', z='price', color='cut',\n",
    "                               title='3D Scatter Plot of Carat, Cut, and Price',\n",
    "                               labels={'carat': 'Carat', 'cut': 'Cut Quality', 'price': 'Price'})\n",
    "\n",
    "scatter_3d_fig.show()"
   ]
  },
  {
   "cell_type": "code",
   "execution_count": 38,
   "id": "145705b2",
   "metadata": {},
   "outputs": [],
   "source": [
    "# 3D Scatter Plot of Price\n",
    "\n",
    "#import plotly.express as px\n",
    "\n",
    "fig = px.scatter_3d(df, x='carat', y='depth', z='price', color='price',\n",
    "                    title='3D Scatter Plot of Price')\n",
    "fig.show()\n"
   ]
  },
  {
   "cell_type": "code",
   "execution_count": 39,
   "id": "593a6dfb",
   "metadata": {},
   "outputs": [],
   "source": [
    "# correlation_matrix\n",
    "\n",
    "numerical_columns = ['carat', 'depth', 'table', 'price', 'x', 'y', 'z']\n",
    "correlation_matrix = df[numerical_columns].corr()\n",
    "correlation_matrix"
   ]
  },
  {
   "cell_type": "code",
   "execution_count": 40,
   "id": "04950c1e",
   "metadata": {},
   "outputs": [],
   "source": [
    "# Select only numerical columns\n",
    "numerical_columns = ['carat', 'depth', 'table', 'price', 'x', 'y', 'z']\n",
    "\n",
    "# Create a subset of the dataset with numerical columns\n",
    "numerical_data = df[numerical_columns]\n",
    "\n",
    "# Calculate correlation matrix\n",
    "corr_matrix = numerical_data.corr()\n",
    "\n",
    "# Create a heatmap using Plotly with annotations\n",
    "heatmap_fig = go.Figure(data=go.Heatmap(\n",
    "                   z=corr_matrix.values,\n",
    "                   x=corr_matrix.columns,\n",
    "                   y=corr_matrix.columns,\n",
    "                   colorscale='Viridis',\n",
    "                   colorbar=dict(title=\"Correlation\"),\n",
    "                   zmin=-1, zmax=1))\n",
    "\n",
    "heatmap_fig.update_layout(title=\"Correlation Heatmap (Numerical Features)\",\n",
    "                         xaxis=dict(title=\"Features\"),\n",
    "                        yaxis=dict(title=\"Features\"))\n",
    "heatmap_fig.show()"
   ]
  },
  {
   "cell_type": "code",
   "execution_count": 41,
   "id": "1bb12165",
   "metadata": {},
   "outputs": [],
   "source": [
    "# Animated plots\n",
    "\n",
    "scatter_fig = px.scatter(df, x='carat', y='price', animation_frame='cut', color='cut',\n",
    "                        title='Animated Scatter Plot: Carat vs Price Colored by Cut')\n",
    "scatter_fig.show()\n"
   ]
  },
  {
   "cell_type": "code",
   "execution_count": 43,
   "id": "07773fe7",
   "metadata": {},
   "outputs": [],
   "source": [
    "# Show the animated strip plot\n",
    "\n",
    "strip_fig = px.strip(df, x='cut', y='price', animation_frame='color', color='clarity',\n",
    "                     title='Animated Strip Plot: Price by Cut and Color with Clarity',\n",
    "                     labels={'cut': 'Cut Quality', 'price': 'Price', 'color': 'Color', 'clarity': 'Clarity'})\n",
    "\n",
    "strip_fig.show()\n"
   ]
  },
  {
   "cell_type": "code",
   "execution_count": 42,
   "id": "ad507ee9",
   "metadata": {},
   "outputs": [],
   "source": [
    "scatter_3d_fig = px.scatter_3d(df, x='carat', y='depth', z='price', animation_frame='cut', color='cut',\n",
    "                              title='Animated 3D Scatter Plot: Carat, Depth, and Price Colored by Cut')\n",
    "scatter_3d_fig.show()"
   ]
  },
  {
   "cell_type": "code",
   "execution_count": null,
   "id": "385ea0e0",
   "metadata": {},
   "outputs": [],
   "source": []
  }
 ],
 "metadata": {
  "kernelspec": {
   "display_name": "Python 3 (ipykernel)",
   "language": "python",
   "name": "python3"
  },
  "language_info": {
   "codemirror_mode": {
    "name": "ipython",
    "version": 3
   },
   "file_extension": ".py",
   "mimetype": "text/x-python",
   "name": "python",
   "nbconvert_exporter": "python",
   "pygments_lexer": "ipython3",
   "version": "3.10.9"
  }
 },
 "nbformat": 4,
 "nbformat_minor": 5
}
